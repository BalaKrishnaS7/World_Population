{
 "cells": [
  {
   "cell_type": "code",
   "execution_count": 1,
   "id": "46b8ca06",
   "metadata": {},
   "outputs": [
    {
     "name": "stdout",
     "output_type": "stream",
     "text": [
      "[5 7 9]\n"
     ]
    }
   ],
   "source": [
    "import numpy as np\n",
    "\n",
    "arr1 = np.array([1, 2, 3])\n",
    "arr2 = np.array([4, 5, 6])\n",
    "result = arr1 + arr2\n",
    "print(result)  # Output: [5 7 9]\n"
   ]
  },
  {
   "cell_type": "code",
   "execution_count": 2,
   "id": "51818d44",
   "metadata": {},
   "outputs": [
    {
     "name": "stdout",
     "output_type": "stream",
     "text": [
      "[-3 -3 -3]\n"
     ]
    }
   ],
   "source": [
    "result = arr1 - arr2\n",
    "print(result)  # Output: [-3 -3 -3]\n",
    "\n"
   ]
  },
  {
   "cell_type": "code",
   "execution_count": 3,
   "id": "c52a2c3d",
   "metadata": {},
   "outputs": [
    {
     "name": "stdout",
     "output_type": "stream",
     "text": [
      "[ 4 10 18]\n"
     ]
    }
   ],
   "source": [
    "result = arr1 * arr2\n",
    "print(result)  # Output: [ 4 10 18]\n",
    "\n"
   ]
  },
  {
   "cell_type": "code",
   "execution_count": 4,
   "id": "9fb0ec55",
   "metadata": {},
   "outputs": [
    {
     "name": "stdout",
     "output_type": "stream",
     "text": [
      "[0.25 0.4  0.5 ]\n"
     ]
    }
   ],
   "source": [
    "result = arr1 / arr2\n",
    "print(result)  # Output: [0.25 0.4  0.5 ]\n"
   ]
  },
  {
   "cell_type": "code",
   "execution_count": 5,
   "id": "bcc069d1",
   "metadata": {},
   "outputs": [
    {
     "name": "stdout",
     "output_type": "stream",
     "text": [
      "[[11 12 13]\n",
      " [14 15 16]]\n"
     ]
    }
   ],
   "source": [
    "arr = np.array([[1, 2, 3],\n",
    "                [4, 5, 6]])\n",
    "\n",
    "scalar = 10\n",
    "\n",
    "result = arr + scalar\n",
    "print(result)\n",
    "# Output:\n",
    "# [[11 12 13]\n",
    "#  [14 15 16]]\n"
   ]
  },
  {
   "cell_type": "code",
   "execution_count": null,
   "id": "51dc31ac",
   "metadata": {},
   "outputs": [],
   "source": []
  },
  {
   "cell_type": "code",
   "execution_count": 6,
   "id": "0af5bdbf",
   "metadata": {},
   "outputs": [
    {
     "name": "stdout",
     "output_type": "stream",
     "text": [
      "[[11 22 33]\n",
      " [14 25 36]]\n"
     ]
    }
   ],
   "source": [
    "import numpy as np\n",
    "\n",
    "# Example arrays\n",
    "a = np.array([[1, 2, 3], [4, 5, 6]])  # Shape: (2, 3)\n",
    "b = np.array([10, 20, 30])            # Shape: (3,)\n",
    "\n",
    "# Adding arrays with different shapes\n",
    "result = a + b\n",
    "\n",
    "print(result)\n"
   ]
  },
  {
   "cell_type": "code",
   "execution_count": 9,
   "id": "242e886f",
   "metadata": {},
   "outputs": [
    {
     "name": "stdout",
     "output_type": "stream",
     "text": [
      "      A  B  C\n",
      "Row1  1  2  3\n",
      "Row2  4  5  6\n",
      "Row3  7  8  9\n"
     ]
    }
   ],
   "source": [
    "import numpy as np\n",
    "import pandas as pd\n",
    "\n",
    "data = np.array([[1, 2, 3],\n",
    "                 [4, 5, 6],\n",
    "                 [7, 8, 9]])\n",
    "\n",
    "columns = ['A', 'B', 'C']\n",
    "index = ['Row1', 'Row2', 'Row3']\n",
    "\n",
    "df = pd.DataFrame(data, columns=columns, index=index)\n",
    "print(df)"
   ]
  },
  {
   "cell_type": "code",
   "execution_count": 10,
   "id": "e00bcd77",
   "metadata": {},
   "outputs": [
    {
     "name": "stdout",
     "output_type": "stream",
     "text": [
      "      A  B\n",
      "Row1  1  2\n",
      "Row2  4  5\n",
      "Row3  7  8\n"
     ]
    }
   ],
   "source": [
    "df_subset = df[['A', 'B']]  # Creating a DataFrame from a subset of columns\n",
    "print(df_subset)"
   ]
  },
  {
   "cell_type": "code",
   "execution_count": 17,
   "id": "8249c347",
   "metadata": {},
   "outputs": [
    {
     "name": "stdout",
     "output_type": "stream",
     "text": [
      "<class 'numpy.ndarray'>\n"
     ]
    }
   ],
   "source": [
    "import numpy as np\n",
    "\n",
    "data = [1, 2, 3, 4, 5]\n",
    "arr = np.array(data)\n",
    "print(type(arr))\n"
   ]
  },
  {
   "cell_type": "code",
   "execution_count": 19,
   "id": "7f21bbbc",
   "metadata": {},
   "outputs": [
    {
     "name": "stdout",
     "output_type": "stream",
     "text": [
      "[[0. 0. 0. 0.]\n",
      " [0. 0. 0. 0.]\n",
      " [0. 0. 0. 0.]]\n"
     ]
    }
   ],
   "source": [
    "zeros_arr = np.zeros((3, 4), dtype=np.float64)\n",
    "print(zeros_arr)"
   ]
  },
  {
   "cell_type": "code",
   "execution_count": 20,
   "id": "8ae52a39",
   "metadata": {},
   "outputs": [
    {
     "name": "stdout",
     "output_type": "stream",
     "text": [
      "Shape of arr1: (5,)\n",
      "Data type of arr2: int32\n",
      "Number of dimensions in arr3: 2\n",
      "Total number of elements in arr4: 5\n"
     ]
    }
   ],
   "source": [
    "import numpy as np\n",
    "\n",
    "# Creating ndarray using numpy.array()\n",
    "arr1 = np.array([1, 2, 3, 4, 5])\n",
    "\n",
    "# Creating ndarray filled with zeros\n",
    "shape = (2, 3)\n",
    "arr2 = np.zeros(shape, dtype=int)\n",
    "\n",
    "# Creating ndarray filled with ones\n",
    "arr3 = np.ones((3, 2))\n",
    "\n",
    "# Creating ndarray with evenly spaced values\n",
    "arr4 = np.arange(0, 10, 2)\n",
    "\n",
    "# Accessing attributes of ndarrays\n",
    "print(\"Shape of arr1:\", arr1.shape)\n",
    "print(\"Data type of arr2:\", arr2.dtype)\n",
    "print(\"Number of dimensions in arr3:\", arr3.ndim)\n",
    "print(\"Total number of elements in arr4:\", arr4.size)\n"
   ]
  },
  {
   "cell_type": "code",
   "execution_count": 22,
   "id": "3cbbde7b",
   "metadata": {},
   "outputs": [
    {
     "name": "stdout",
     "output_type": "stream",
     "text": [
      "Original DataFrame:\n",
      "   A   B   C\n",
      "0  1   6  11\n",
      "1  2   7  12\n",
      "2  3   8  13\n",
      "3  4   9  14\n",
      "4  5  10  15\n",
      "\n",
      "DataFrame after dropping rows with index labels 0 and 2:\n",
      "   A   B   C\n",
      "1  2   7  12\n",
      "2  3   8  13\n",
      "3  4   9  14\n",
      "4  5  10  15\n",
      "\n",
      "DataFrame after dropping column 'B':\n",
      "   A   C\n",
      "0  1  11\n",
      "1  2  12\n",
      "2  3  13\n",
      "3  4  14\n",
      "4  5  15\n"
     ]
    }
   ],
   "source": [
    "import pandas as pd\n",
    "\n",
    "# Create a sample DataFrame\n",
    "data = {\n",
    "    'A': [1, 2, 3, 4, 5],\n",
    "    'B': [6, 7, 8, 9, 10],\n",
    "    'C': [11, 12, 13, 14, 15]\n",
    "}\n",
    "df = pd.DataFrame(data)\n",
    "\n",
    "print(\"Original DataFrame:\")\n",
    "print(df)\n",
    "print()\n",
    "\n",
    "# Drop rows with index labels 0 and 2\n",
    "df_dropped_rows = df.drop(labels=[0], axis=0)\n",
    "\n",
    "# Drop column 'B'\n",
    "df_dropped_columns = df.drop(columns='B')\n",
    "\n",
    "print(\"DataFrame after dropping rows with index labels 0 and 2:\")\n",
    "print(df_dropped_rows)\n",
    "print()\n",
    "\n",
    "print(\"DataFrame after dropping column 'B':\")\n",
    "print(df_dropped_columns)\n"
   ]
  },
  {
   "cell_type": "code",
   "execution_count": 23,
   "id": "ccb90903",
   "metadata": {},
   "outputs": [
    {
     "name": "stdout",
     "output_type": "stream",
     "text": [
      "[0 2 4 6 8]\n"
     ]
    }
   ],
   "source": [
    "arr4 = np.arange(0, 10, 2)\n",
    "print(arr4)"
   ]
  },
  {
   "cell_type": "code",
   "execution_count": null,
   "id": "6525465a",
   "metadata": {},
   "outputs": [],
   "source": []
  }
 ],
 "metadata": {
  "kernelspec": {
   "display_name": "Python 3 (ipykernel)",
   "language": "python",
   "name": "python3"
  },
  "language_info": {
   "codemirror_mode": {
    "name": "ipython",
    "version": 3
   },
   "file_extension": ".py",
   "mimetype": "text/x-python",
   "name": "python",
   "nbconvert_exporter": "python",
   "pygments_lexer": "ipython3",
   "version": "3.11.5"
  }
 },
 "nbformat": 4,
 "nbformat_minor": 5
}
